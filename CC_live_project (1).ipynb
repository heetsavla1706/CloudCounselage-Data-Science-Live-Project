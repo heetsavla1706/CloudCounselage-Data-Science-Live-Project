{
  "nbformat": 4,
  "nbformat_minor": 0,
  "metadata": {
    "colab": {
      "name": "CC_live_project.ipynb",
      "provenance": []
    },
    "kernelspec": {
      "name": "python3",
      "display_name": "Python 3"
    }
  },
  "cells": [
    {
      "cell_type": "code",
      "metadata": {
        "id": "70X484f3yiQ9",
        "colab_type": "code",
        "colab": {}
      },
      "source": [
        "import pandas as pd\n",
        "import numpy as np\n",
        "import matplotlib.pyplot as plt\n",
        "import seaborn as sns"
      ],
      "execution_count": 72,
      "outputs": []
    },
    {
      "cell_type": "code",
      "metadata": {
        "id": "Q6gmQOWoywWm",
        "colab_type": "code",
        "colab": {}
      },
      "source": [
        "data = pd.read_csv('DS_DATESET.csv')"
      ],
      "execution_count": 73,
      "outputs": []
    },
    {
      "cell_type": "code",
      "metadata": {
        "id": "8OSrPXgmywY6",
        "colab_type": "code",
        "colab": {
          "base_uri": "https://localhost:8080/",
          "height": 568
        },
        "outputId": "e9fe8384-f0e0-4588-b610-db48f613dfc0"
      },
      "source": [
        "data.head()"
      ],
      "execution_count": 74,
      "outputs": [
        {
          "output_type": "execute_result",
          "data": {
            "text/html": [
              "<div>\n",
              "<style scoped>\n",
              "    .dataframe tbody tr th:only-of-type {\n",
              "        vertical-align: middle;\n",
              "    }\n",
              "\n",
              "    .dataframe tbody tr th {\n",
              "        vertical-align: top;\n",
              "    }\n",
              "\n",
              "    .dataframe thead th {\n",
              "        text-align: right;\n",
              "    }\n",
              "</style>\n",
              "<table border=\"1\" class=\"dataframe\">\n",
              "  <thead>\n",
              "    <tr style=\"text-align: right;\">\n",
              "      <th></th>\n",
              "      <th>First Name</th>\n",
              "      <th>Last Name</th>\n",
              "      <th>City</th>\n",
              "      <th>State</th>\n",
              "      <th>Zip Code</th>\n",
              "      <th>DOB [DD/MM/YYYY]</th>\n",
              "      <th>Age</th>\n",
              "      <th>Gender</th>\n",
              "      <th>Email Address</th>\n",
              "      <th>Contact Number</th>\n",
              "      <th>Emergency Contact Number</th>\n",
              "      <th>College name</th>\n",
              "      <th>University Name</th>\n",
              "      <th>Degree</th>\n",
              "      <th>Major/Area of Study</th>\n",
              "      <th>Course Type</th>\n",
              "      <th>Which-year are you studying in?</th>\n",
              "      <th>CGPA/ percentage</th>\n",
              "      <th>Expected Graduation-year</th>\n",
              "      <th>Areas of interest</th>\n",
              "      <th>Current Employment Status</th>\n",
              "      <th>Have you worked core Java</th>\n",
              "      <th>Programming Language Known other than Java (one major)</th>\n",
              "      <th>Have you worked on MySQL or Oracle database</th>\n",
              "      <th>Have you studied OOP Concepts</th>\n",
              "      <th>Certifications/Achievement/ Research papers</th>\n",
              "      <th>Rate your written communication skills [1-10]</th>\n",
              "      <th>Rate your verbal communication skills [1-10]</th>\n",
              "      <th>Link to updated Resume (Google/ One Drive link preferred)</th>\n",
              "      <th>link to Linkedin profile</th>\n",
              "      <th>How Did You Hear About This Internship?</th>\n",
              "      <th>Label</th>\n",
              "    </tr>\n",
              "  </thead>\n",
              "  <tbody>\n",
              "    <tr>\n",
              "      <th>0</th>\n",
              "      <td>Barron</td>\n",
              "      <td>Harnes</td>\n",
              "      <td>Kolhapur</td>\n",
              "      <td>Maharashtra</td>\n",
              "      <td>416004</td>\n",
              "      <td>24/09/2000</td>\n",
              "      <td>19</td>\n",
              "      <td>Male</td>\n",
              "      <td>bharnes0@harvard.edu</td>\n",
              "      <td>6345186600</td>\n",
              "      <td>7828240738</td>\n",
              "      <td>DY Patil College of Engineering And Technology</td>\n",
              "      <td>Shivaji University</td>\n",
              "      <td>B.Tech</td>\n",
              "      <td>Electrical Engineering</td>\n",
              "      <td>Full-time</td>\n",
              "      <td>Second-year</td>\n",
              "      <td>7.26</td>\n",
              "      <td>2022</td>\n",
              "      <td>Artificial Intelligence</td>\n",
              "      <td>Student</td>\n",
              "      <td>Yes</td>\n",
              "      <td>HTML/CSS</td>\n",
              "      <td>Yes</td>\n",
              "      <td>No</td>\n",
              "      <td>NaN</td>\n",
              "      <td>6</td>\n",
              "      <td>10</td>\n",
              "      <td>NaN</td>\n",
              "      <td>NaN</td>\n",
              "      <td>Twitter</td>\n",
              "      <td>ineligible</td>\n",
              "    </tr>\n",
              "    <tr>\n",
              "      <th>1</th>\n",
              "      <td>Velma</td>\n",
              "      <td>Allone</td>\n",
              "      <td>Pune</td>\n",
              "      <td>Maharashtra</td>\n",
              "      <td>411011</td>\n",
              "      <td>23/10/1997</td>\n",
              "      <td>22</td>\n",
              "      <td>Female</td>\n",
              "      <td>vallone1@i2i.jp</td>\n",
              "      <td>2808753102</td>\n",
              "      <td>2891397791</td>\n",
              "      <td>Vishwakarma Institute of Information Technology</td>\n",
              "      <td>Savitribai Phule Pune University</td>\n",
              "      <td>B.Tech</td>\n",
              "      <td>Electronics and Telecommunication</td>\n",
              "      <td>Full-time</td>\n",
              "      <td>Fourth-year</td>\n",
              "      <td>8.73</td>\n",
              "      <td>2020</td>\n",
              "      <td>Cloud Computing</td>\n",
              "      <td>Student</td>\n",
              "      <td>Yes</td>\n",
              "      <td>PHP</td>\n",
              "      <td>No</td>\n",
              "      <td>Yes</td>\n",
              "      <td>NaN</td>\n",
              "      <td>10</td>\n",
              "      <td>7</td>\n",
              "      <td>NaN</td>\n",
              "      <td>NaN</td>\n",
              "      <td>Ex/Current Employee</td>\n",
              "      <td>eligible</td>\n",
              "    </tr>\n",
              "    <tr>\n",
              "      <th>2</th>\n",
              "      <td>Thibaut</td>\n",
              "      <td>Scotland</td>\n",
              "      <td>Mumbai</td>\n",
              "      <td>Maharashtra</td>\n",
              "      <td>400059</td>\n",
              "      <td>6/2/1996</td>\n",
              "      <td>24</td>\n",
              "      <td>Male</td>\n",
              "      <td>tscotland2@opensource.org</td>\n",
              "      <td>2945231918</td>\n",
              "      <td>9388905869</td>\n",
              "      <td>Vidyalankar Institute of Technology</td>\n",
              "      <td>Mumbai University</td>\n",
              "      <td>B.E.</td>\n",
              "      <td>Electrical Engineering</td>\n",
              "      <td>Full-time</td>\n",
              "      <td>Fourth-year</td>\n",
              "      <td>8.61</td>\n",
              "      <td>2020</td>\n",
              "      <td>IoT</td>\n",
              "      <td>Student</td>\n",
              "      <td>Yes</td>\n",
              "      <td>C</td>\n",
              "      <td>No</td>\n",
              "      <td>No</td>\n",
              "      <td>NaN</td>\n",
              "      <td>8</td>\n",
              "      <td>6</td>\n",
              "      <td>NaN</td>\n",
              "      <td>NaN</td>\n",
              "      <td>Twitter</td>\n",
              "      <td>ineligible</td>\n",
              "    </tr>\n",
              "    <tr>\n",
              "      <th>3</th>\n",
              "      <td>Retha</td>\n",
              "      <td>Proud</td>\n",
              "      <td>Solapur</td>\n",
              "      <td>Maharashtra</td>\n",
              "      <td>413224</td>\n",
              "      <td>26/12/1999</td>\n",
              "      <td>20</td>\n",
              "      <td>Female</td>\n",
              "      <td>rproud3@flavors.me</td>\n",
              "      <td>7507196200</td>\n",
              "      <td>8037797161</td>\n",
              "      <td>Brahmdevdada Mane Institute of Technology</td>\n",
              "      <td>Punyashlok Ahilyadevi Holkar Solapur University</td>\n",
              "      <td>B.Tech</td>\n",
              "      <td>Computer Engineering</td>\n",
              "      <td>Full-time</td>\n",
              "      <td>Second-year</td>\n",
              "      <td>7.96</td>\n",
              "      <td>2022</td>\n",
              "      <td>Digital Marketing</td>\n",
              "      <td>Student</td>\n",
              "      <td>No</td>\n",
              "      <td>PHP</td>\n",
              "      <td>No</td>\n",
              "      <td>Yes</td>\n",
              "      <td>NaN</td>\n",
              "      <td>9</td>\n",
              "      <td>6</td>\n",
              "      <td>NaN</td>\n",
              "      <td>NaN</td>\n",
              "      <td>Twitter</td>\n",
              "      <td>ineligible</td>\n",
              "    </tr>\n",
              "    <tr>\n",
              "      <th>4</th>\n",
              "      <td>Del</td>\n",
              "      <td>Pearse</td>\n",
              "      <td>Sangli</td>\n",
              "      <td>Maharashtra</td>\n",
              "      <td>416436</td>\n",
              "      <td>21/09/1996</td>\n",
              "      <td>23</td>\n",
              "      <td>Female</td>\n",
              "      <td>dpearse4@sakura.ne.jp</td>\n",
              "      <td>6643884281</td>\n",
              "      <td>1328949359</td>\n",
              "      <td>Rajarambapu Institute of Technology</td>\n",
              "      <td>Shivaji University</td>\n",
              "      <td>B.Tech</td>\n",
              "      <td>Electrical Engineering</td>\n",
              "      <td>Full-time</td>\n",
              "      <td>First-year</td>\n",
              "      <td>7.07</td>\n",
              "      <td>2023</td>\n",
              "      <td>Cloud Computing</td>\n",
              "      <td>Student</td>\n",
              "      <td>No</td>\n",
              "      <td>Python</td>\n",
              "      <td>No</td>\n",
              "      <td>Yes</td>\n",
              "      <td>NaN</td>\n",
              "      <td>8</td>\n",
              "      <td>6</td>\n",
              "      <td>NaN</td>\n",
              "      <td>NaN</td>\n",
              "      <td>Facebook</td>\n",
              "      <td>ineligible</td>\n",
              "    </tr>\n",
              "  </tbody>\n",
              "</table>\n",
              "</div>"
            ],
            "text/plain": [
              "  First Name Last Name  ... How Did You Hear About This Internship?       Label\n",
              "0     Barron    Harnes  ...                                 Twitter  ineligible\n",
              "1      Velma    Allone  ...                     Ex/Current Employee    eligible\n",
              "2    Thibaut  Scotland  ...                                 Twitter  ineligible\n",
              "3      Retha     Proud  ...                                 Twitter  ineligible\n",
              "4        Del    Pearse  ...                                Facebook  ineligible\n",
              "\n",
              "[5 rows x 32 columns]"
            ]
          },
          "metadata": {
            "tags": []
          },
          "execution_count": 74
        }
      ]
    },
    {
      "cell_type": "code",
      "metadata": {
        "id": "4rpz0sovywbf",
        "colab_type": "code",
        "colab": {
          "base_uri": "https://localhost:8080/",
          "height": 34
        },
        "outputId": "967563b2-bf50-401e-8297-c30df68d957a"
      },
      "source": [
        "data.shape"
      ],
      "execution_count": 75,
      "outputs": [
        {
          "output_type": "execute_result",
          "data": {
            "text/plain": [
              "(10000, 32)"
            ]
          },
          "metadata": {
            "tags": []
          },
          "execution_count": 75
        }
      ]
    },
    {
      "cell_type": "code",
      "metadata": {
        "id": "WGGLXXAFywdq",
        "colab_type": "code",
        "colab": {
          "base_uri": "https://localhost:8080/",
          "height": 286
        },
        "outputId": "3adb6a2a-bf11-4178-feb3-39ab504d6147"
      },
      "source": [
        "data.columns"
      ],
      "execution_count": 76,
      "outputs": [
        {
          "output_type": "execute_result",
          "data": {
            "text/plain": [
              "Index(['First Name', 'Last Name', 'City', 'State', 'Zip Code',\n",
              "       'DOB [DD/MM/YYYY]', 'Age', 'Gender', 'Email Address', 'Contact Number',\n",
              "       'Emergency Contact Number', 'College name', 'University Name', 'Degree',\n",
              "       'Major/Area of Study', 'Course Type', 'Which-year are you studying in?',\n",
              "       'CGPA/ percentage', 'Expected Graduation-year', 'Areas of interest',\n",
              "       'Current Employment Status', 'Have you worked core Java',\n",
              "       'Programming Language Known other than Java (one major)',\n",
              "       'Have you worked on MySQL or Oracle database',\n",
              "       'Have you studied OOP Concepts',\n",
              "       'Certifications/Achievement/ Research papers',\n",
              "       'Rate your written communication skills [1-10]',\n",
              "       'Rate your verbal communication skills [1-10]',\n",
              "       'Link to updated Resume (Google/ One Drive link preferred)',\n",
              "       'link to Linkedin profile', 'How Did You Hear About This Internship?',\n",
              "       'Label'],\n",
              "      dtype='object')"
            ]
          },
          "metadata": {
            "tags": []
          },
          "execution_count": 76
        }
      ]
    },
    {
      "cell_type": "code",
      "metadata": {
        "id": "pS8AewTaywgE",
        "colab_type": "code",
        "colab": {}
      },
      "source": [
        "drop_cols = ['First Name', 'Last Name','State', 'Zip Code',\n",
        "       'DOB [DD/MM/YYYY]', 'Age', 'Gender', 'Email Address', 'Contact Number',\n",
        "       'Emergency Contact Number','University Name', 'Degree', 'Course Type', 'Expected Graduation-year', 'Current Employment Status', 'Have you worked core Java','Current Employment Status', 'Have you worked core Java','Have you worked on MySQL or Oracle database',\n",
        "       'Have you studied OOP Concepts']"
      ],
      "execution_count": 77,
      "outputs": []
    },
    {
      "cell_type": "code",
      "metadata": {
        "id": "ZK6GkDJhywin",
        "colab_type": "code",
        "colab": {}
      },
      "source": [
        "data.drop(['First Name', 'Last Name','State', 'Zip Code',\n",
        "       'DOB [DD/MM/YYYY]', 'Age', 'Gender', 'Email Address', 'Contact Number',\n",
        "       'Emergency Contact Number','University Name', 'Degree', 'Course Type', 'Expected Graduation-year', 'Current Employment Status', 'Have you worked core Java','Current Employment Status', 'Have you worked core Java'],axis = 1, inplace = True)"
      ],
      "execution_count": 78,
      "outputs": []
    },
    {
      "cell_type": "code",
      "metadata": {
        "id": "T4bp33-7KmAi",
        "colab_type": "code",
        "colab": {}
      },
      "source": [
        "data.drop(['Have you worked on MySQL or Oracle database',\n",
        "       'Have you studied OOP Concepts'], axis=1, inplace=True)"
      ],
      "execution_count": 79,
      "outputs": []
    },
    {
      "cell_type": "code",
      "metadata": {
        "id": "fKDSSm0cywk2",
        "colab_type": "code",
        "colab": {
          "base_uri": "https://localhost:8080/",
          "height": 202
        },
        "outputId": "3cbc5025-9dd3-4749-f5cc-c25a1f582e6b"
      },
      "source": [
        "data.columns"
      ],
      "execution_count": 80,
      "outputs": [
        {
          "output_type": "execute_result",
          "data": {
            "text/plain": [
              "Index(['City', 'College name', 'Major/Area of Study',\n",
              "       'Which-year are you studying in?', 'CGPA/ percentage',\n",
              "       'Areas of interest',\n",
              "       'Programming Language Known other than Java (one major)',\n",
              "       'Certifications/Achievement/ Research papers',\n",
              "       'Rate your written communication skills [1-10]',\n",
              "       'Rate your verbal communication skills [1-10]',\n",
              "       'Link to updated Resume (Google/ One Drive link preferred)',\n",
              "       'link to Linkedin profile', 'How Did You Hear About This Internship?',\n",
              "       'Label'],\n",
              "      dtype='object')"
            ]
          },
          "metadata": {
            "tags": []
          },
          "execution_count": 80
        }
      ]
    },
    {
      "cell_type": "code",
      "metadata": {
        "id": "b6RfNUFdywnb",
        "colab_type": "code",
        "colab": {
          "base_uri": "https://localhost:8080/",
          "height": 269
        },
        "outputId": "6d75f12d-e873-4b76-bd5c-ecfcf6bb35cd"
      },
      "source": [
        "data.isnull().sum()"
      ],
      "execution_count": 81,
      "outputs": [
        {
          "output_type": "execute_result",
          "data": {
            "text/plain": [
              "City                                                             0\n",
              "College name                                                     0\n",
              "Major/Area of Study                                              0\n",
              "Which-year are you studying in?                                  0\n",
              "CGPA/ percentage                                                 0\n",
              "Areas of interest                                                0\n",
              "Programming Language Known other than Java (one major)           0\n",
              "Certifications/Achievement/ Research papers                  10000\n",
              "Rate your written communication skills [1-10]                    0\n",
              "Rate your verbal communication skills [1-10]                     0\n",
              "Link to updated Resume (Google/ One Drive link preferred)    10000\n",
              "link to Linkedin profile                                     10000\n",
              "How Did You Hear About This Internship?                          0\n",
              "Label                                                            0\n",
              "dtype: int64"
            ]
          },
          "metadata": {
            "tags": []
          },
          "execution_count": 81
        }
      ]
    },
    {
      "cell_type": "code",
      "metadata": {
        "id": "7fbdz0fVywro",
        "colab_type": "code",
        "colab": {}
      },
      "source": [
        "data.drop(['Certifications/Achievement/ Research papers', 'Link to updated Resume (Google/ One Drive link preferred)',\n",
        "       'link to Linkedin profile'], axis = 1, inplace = True)"
      ],
      "execution_count": 82,
      "outputs": []
    },
    {
      "cell_type": "code",
      "metadata": {
        "id": "QD66dc8Zywvs",
        "colab_type": "code",
        "colab": {
          "base_uri": "https://localhost:8080/",
          "height": 218
        },
        "outputId": "db52610d-f766-41d0-d503-65c4fef53f3d"
      },
      "source": [
        "data.isnull().sum()"
      ],
      "execution_count": 83,
      "outputs": [
        {
          "output_type": "execute_result",
          "data": {
            "text/plain": [
              "City                                                      0\n",
              "College name                                              0\n",
              "Major/Area of Study                                       0\n",
              "Which-year are you studying in?                           0\n",
              "CGPA/ percentage                                          0\n",
              "Areas of interest                                         0\n",
              "Programming Language Known other than Java (one major)    0\n",
              "Rate your written communication skills [1-10]             0\n",
              "Rate your verbal communication skills [1-10]              0\n",
              "How Did You Hear About This Internship?                   0\n",
              "Label                                                     0\n",
              "dtype: int64"
            ]
          },
          "metadata": {
            "tags": []
          },
          "execution_count": 83
        }
      ]
    },
    {
      "cell_type": "code",
      "metadata": {
        "id": "2wyD4avJywzH",
        "colab_type": "code",
        "colab": {
          "base_uri": "https://localhost:8080/",
          "height": 302
        },
        "outputId": "fd18c433-29d9-4ad5-cd42-bd17a84c9bbd"
      },
      "source": [
        "data['Areas of interest'].value_counts()"
      ],
      "execution_count": 84,
      "outputs": [
        {
          "output_type": "execute_result",
          "data": {
            "text/plain": [
              "DevOps                      674\n",
              "Machine Learning            671\n",
              "Python                      652\n",
              "Cyber Security              638\n",
              "Web Development             637\n",
              "QMS/Testing                 633\n",
              "Mobility                    631\n",
              "IoT                         630\n",
              "Artificial Intelligence     627\n",
              "Digital Marketing           624\n",
              "Blockchain                  623\n",
              "Big Data                    612\n",
              "Data Science                601\n",
              "Information Security        598\n",
              "RPA                         589\n",
              "Cloud Computing             560\n",
              "Name: Areas of interest, dtype: int64"
            ]
          },
          "metadata": {
            "tags": []
          },
          "execution_count": 84
        }
      ]
    },
    {
      "cell_type": "code",
      "metadata": {
        "id": "jm8y-T1Wywt5",
        "colab_type": "code",
        "colab": {
          "base_uri": "https://localhost:8080/",
          "height": 793
        },
        "outputId": "cecb358b-e086-4dfb-b76c-366ad5ae604f"
      },
      "source": [
        "plt.figure(figsize=(20,15))\n",
        "ax=sns.countplot(y = data['Areas of interest'], order = data['Areas of interest'].value_counts().index, palette='colorblind')\n",
        "ax.set_title(\"Number of Students as per Areas of interest\")\n",
        "plt.show()"
      ],
      "execution_count": 85,
      "outputs": [
        {
          "output_type": "display_data",
          "data": {
            "image/png": "[encoded data removed]",
            "text/plain": [
              "<Figure size 1440x1080 with 1 Axes>"
            ]
          },
          "metadata": {
            "tags": [],
            "needs_background": "light"
          }
        }
      ]
    },
    {
      "cell_type": "code",
      "metadata": {
        "id": "Xum5dmyv2L_P",
        "colab_type": "code",
        "colab": {}
      },
      "source": [
        "data.rename(columns = {'Areas of interest':'Areas_of_interest', 'Programming Language Known other than Java (one major)':'python_or_any_other'\n",
        "                              }, inplace = True) "
      ],
      "execution_count": 86,
      "outputs": []
    },
    {
      "cell_type": "code",
      "metadata": {
        "id": "Yy7qjzRN2MCA",
        "colab_type": "code",
        "colab": {
          "base_uri": "https://localhost:8080/",
          "height": 134
        },
        "outputId": "5412de49-38f2-4b4f-ec31-4b09283e6a8e"
      },
      "source": [
        "data.columns"
      ],
      "execution_count": 87,
      "outputs": [
        {
          "output_type": "execute_result",
          "data": {
            "text/plain": [
              "Index(['City', 'College name', 'Major/Area of Study',\n",
              "       'Which-year are you studying in?', 'CGPA/ percentage',\n",
              "       'Areas_of_interest', 'python_or_any_other',\n",
              "       'Rate your written communication skills [1-10]',\n",
              "       'Rate your verbal communication skills [1-10]',\n",
              "       'How Did You Hear About This Internship?', 'Label'],\n",
              "      dtype='object')"
            ]
          },
          "metadata": {
            "tags": []
          },
          "execution_count": 87
        }
      ]
    },
    {
      "cell_type": "code",
      "metadata": {
        "id": "t1v5WnEU2MEh",
        "colab_type": "code",
        "colab": {
          "base_uri": "https://localhost:8080/",
          "height": 34
        },
        "outputId": "3dfb08fc-175b-4bb3-c9bb-a809f8df6986"
      },
      "source": [
        "total_data_science_students = np.count_nonzero(np.where(data['Areas_of_interest'] == 'Data Science '))\n",
        "total_data_science_students"
      ],
      "execution_count": 88,
      "outputs": [
        {
          "output_type": "execute_result",
          "data": {
            "text/plain": [
              "601"
            ]
          },
          "metadata": {
            "tags": []
          },
          "execution_count": 88
        }
      ]
    },
    {
      "cell_type": "code",
      "metadata": {
        "id": "uyWzdFxg2MHM",
        "colab_type": "code",
        "colab": {}
      },
      "source": [
        "data_science_with_python = np.count_nonzero(np.where((data['Areas_of_interest'] == 'Data Science ') & (data['python_or_any_other'] == 'Python')))\n"
      ],
      "execution_count": 89,
      "outputs": []
    },
    {
      "cell_type": "code",
      "metadata": {
        "id": "dam8y4ox2MJa",
        "colab_type": "code",
        "colab": {
          "base_uri": "https://localhost:8080/",
          "height": 34
        },
        "outputId": "1e5b3836-dc97-4f34-e2e1-ab5dd41707f6"
      },
      "source": [
        "data_science_without_python = total_data_science_students - data_science_with_python\n",
        "data_science_without_python"
      ],
      "execution_count": 90,
      "outputs": [
        {
          "output_type": "execute_result",
          "data": {
            "text/plain": [
              "535"
            ]
          },
          "metadata": {
            "tags": []
          },
          "execution_count": 90
        }
      ]
    },
    {
      "cell_type": "code",
      "metadata": {
        "id": "DEFrgDup2MME",
        "colab_type": "code",
        "colab": {}
      },
      "source": [
        "labels=['DS with python','DS without python']\n",
        "explode=[0,0.1]\n",
        "data_of_ds_students= [data_science_with_python,data_science_without_python]\n",
        "def absolute_value(val):\n",
        "    a  = np.round(val/100.*sum(data_of_ds_students), 0)\n",
        "    return a"
      ],
      "execution_count": 91,
      "outputs": []
    },
    {
      "cell_type": "code",
      "metadata": {
        "id": "xkBwdQK8HvXh",
        "colab_type": "code",
        "colab": {
          "base_uri": "https://localhost:8080/",
          "height": 575
        },
        "outputId": "fd6d1169-bfb3-4a28-a652-ac647e252930"
      },
      "source": [
        "plt.figure(figsize=(15,10))\n",
        "plt.pie(data_of_ds_students,labels=labels,autopct=absolute_value,colors=['blue','green'],explode=explode)\n",
        "plt.show()"
      ],
      "execution_count": 92,
      "outputs": [
        {
          "output_type": "display_data",
          "data": {
            "image/png": "[encoded data removed]",
            "text/plain": [
              "<Figure size 1080x720 with 1 Axes>"
            ]
          },
          "metadata": {
            "tags": []
          }
        }
      ]
    },
    {
      "cell_type": "code",
      "metadata": {
        "id": "F3KYCUOnHuu8",
        "colab_type": "code",
        "colab": {
          "base_uri": "https://localhost:8080/",
          "height": 185
        },
        "outputId": "d4cf90f8-5a8f-416f-bfad-d61057e78368"
      },
      "source": [
        "data['How Did You Hear About This Internship?'].value_counts()"
      ],
      "execution_count": 93,
      "outputs": [
        {
          "output_type": "execute_result",
          "data": {
            "text/plain": [
              "Intern                 1173\n",
              "Newspaper              1162\n",
              "Twitter                1160\n",
              "Blog post              1116\n",
              "LinkedIn               1112\n",
              "Friend                 1109\n",
              "Facebook               1084\n",
              "Other                  1077\n",
              "Ex/Current Employee    1007\n",
              "Name: How Did You Hear About This Internship?, dtype: int64"
            ]
          },
          "metadata": {
            "tags": []
          },
          "execution_count": 93
        }
      ]
    },
    {
      "cell_type": "code",
      "metadata": {
        "id": "p_23eNBy2MPY",
        "colab_type": "code",
        "colab": {
          "base_uri": "https://localhost:8080/",
          "height": 513
        },
        "outputId": "461fce24-9fe9-4163-dd46-102f6f29dab6"
      },
      "source": [
        "plt.figure(figsize=(15,8))\n",
        "ax=sns.countplot(data['How Did You Hear About This Internship?'], order = data['How Did You Hear About This Internship?'].value_counts().index, palette='Blues_d')\n",
        "ax.set_title(\"Number of Students Per Area Of Technology\")\n",
        "plt.show()"
      ],
      "execution_count": 94,
      "outputs": [
        {
          "output_type": "display_data",
          "data": {
            "image/png": "[encoded data removed]",
            "text/plain": [
              "<Figure size 1080x576 with 1 Axes>"
            ]
          },
          "metadata": {
            "tags": [],
            "needs_background": "light"
          }
        }
      ]
    },
    {
      "cell_type": "code",
      "metadata": {
        "id": "rssa50HnLRTg",
        "colab_type": "code",
        "colab": {
          "base_uri": "https://localhost:8080/",
          "height": 101
        },
        "outputId": "f96a391c-ee92-455f-d7ef-30f4ab3649a5"
      },
      "source": [
        "data['Which-year are you studying in?'].value_counts()"
      ],
      "execution_count": 95,
      "outputs": [
        {
          "output_type": "execute_result",
          "data": {
            "text/plain": [
              "Second-year    2550\n",
              "First-year     2510\n",
              "Fourth-year    2477\n",
              "Third-year     2463\n",
              "Name: Which-year are you studying in?, dtype: int64"
            ]
          },
          "metadata": {
            "tags": []
          },
          "execution_count": 95
        }
      ]
    },
    {
      "cell_type": "code",
      "metadata": {
        "id": "oy86He7Mywp5",
        "colab_type": "code",
        "colab": {
          "base_uri": "https://localhost:8080/",
          "height": 34
        },
        "outputId": "f34a747a-835d-4366-f165-f38389acdd55"
      },
      "source": [
        "total_fourth_year_students = np.count_nonzero(np.where(data['Which-year are you studying in?'] == 'Fourth-year'))\n",
        "total_fourth_year_students"
      ],
      "execution_count": 96,
      "outputs": [
        {
          "output_type": "execute_result",
          "data": {
            "text/plain": [
              "2477"
            ]
          },
          "metadata": {
            "tags": []
          },
          "execution_count": 96
        }
      ]
    },
    {
      "cell_type": "code",
      "metadata": {
        "id": "By18ZcavLxV7",
        "colab_type": "code",
        "colab": {
          "base_uri": "https://localhost:8080/",
          "height": 34
        },
        "outputId": "0c5337a4-e32a-4712-b771-656748bebd1d"
      },
      "source": [
        "FY_greater_than_8_CGPA = np.count_nonzero(np.where((data['Which-year are you studying in?'] == 'Fourth-year') & (data['CGPA/ percentage'] > 8.0)))\n",
        "FY_greater_than_8_CGPA"
      ],
      "execution_count": 97,
      "outputs": [
        {
          "output_type": "execute_result",
          "data": {
            "text/plain": [
              "1697"
            ]
          },
          "metadata": {
            "tags": []
          },
          "execution_count": 97
        }
      ]
    },
    {
      "cell_type": "code",
      "metadata": {
        "id": "WRWbcb3JLxcp",
        "colab_type": "code",
        "colab": {
          "base_uri": "https://localhost:8080/",
          "height": 34
        },
        "outputId": "f29a11fc-bb1b-4ad8-ed56-fdcdef7a5ad2"
      },
      "source": [
        "FY_equal_or_less_than_8_CGPA = total_fourth_year_students - FY_greater_than_8_CGPA\n",
        "FY_equal_or_less_than_8_CGPA"
      ],
      "execution_count": 98,
      "outputs": [
        {
          "output_type": "execute_result",
          "data": {
            "text/plain": [
              "780"
            ]
          },
          "metadata": {
            "tags": []
          },
          "execution_count": 98
        }
      ]
    },
    {
      "cell_type": "code",
      "metadata": {
        "id": "lzUf2c5zLxan",
        "colab_type": "code",
        "colab": {}
      },
      "source": [
        "x=['FY_greater_than_8_CGPA','FY_equal_or_less_than_8_CGPA']\n",
        "y=[FY_greater_than_8_CGPA,FY_equal_or_less_than_8_CGPA]"
      ],
      "execution_count": 99,
      "outputs": []
    },
    {
      "cell_type": "code",
      "metadata": {
        "id": "E9V2xI8jLxCg",
        "colab_type": "code",
        "colab": {
          "base_uri": "https://localhost:8080/",
          "height": 623
        },
        "outputId": "1a0f8508-96de-4a7c-c02f-7d59efb26a1d"
      },
      "source": [
        "plt.figure(figsize=(10,10))\n",
        "ax=sns.barplot(x=x,y=y,hue=y,color='red')\n",
        "ax.set_xlabel('Fourth Year Students')\n",
        "ax.set_ylabel('Number of students')\n"
      ],
      "execution_count": 100,
      "outputs": [
        {
          "output_type": "execute_result",
          "data": {
            "text/plain": [
              "Text(0, 0.5, 'Number of students')"
            ]
          },
          "metadata": {
            "tags": []
          },
          "execution_count": 100
        },
        {
          "output_type": "display_data",
          "data": {
            "image/png": "[encoded data removed]",
            "text/plain": [
              "<Figure size 720x720 with 1 Axes>"
            ]
          },
          "metadata": {
            "tags": [],
            "needs_background": "light"
          }
        }
      ]
    },
    {
      "cell_type": "code",
      "metadata": {
        "id": "_CqRpu-DevNq",
        "colab_type": "code",
        "colab": {
          "base_uri": "https://localhost:8080/",
          "height": 34
        },
        "outputId": "441f53fa-87e2-49ff-e894-c6db9d1f5fd3"
      },
      "source": [
        "total_digital_marketing_students = np.count_nonzero(np.where(data['Areas_of_interest'] == 'Digital Marketing '))\n",
        "total_digital_marketing_students"
      ],
      "execution_count": 101,
      "outputs": [
        {
          "output_type": "execute_result",
          "data": {
            "text/plain": [
              "624"
            ]
          },
          "metadata": {
            "tags": []
          },
          "execution_count": 101
        }
      ]
    },
    {
      "cell_type": "code",
      "metadata": {
        "id": "JMkXlfdCevYg",
        "colab_type": "code",
        "colab": {
          "base_uri": "https://localhost:8080/",
          "height": 34
        },
        "outputId": "43d6b627-ce9a-4b51-effd-610c63aa3608"
      },
      "source": [
        "DM_greater_than_8 = np.count_nonzero(np.where((data['Which-year are you studying in?'] == 'Fourth-year') & (data['Rate your written communication skills [1-10]'] > 8.0) & (data['Rate your verbal communication skills [1-10]'] > 8.0)))\n",
        "DM_greater_than_8"
      ],
      "execution_count": 102,
      "outputs": [
        {
          "output_type": "execute_result",
          "data": {
            "text/plain": [
              "376"
            ]
          },
          "metadata": {
            "tags": []
          },
          "execution_count": 102
        }
      ]
    },
    {
      "cell_type": "code",
      "metadata": {
        "id": "NF3QTa_pevT6",
        "colab_type": "code",
        "colab": {
          "base_uri": "https://localhost:8080/",
          "height": 34
        },
        "outputId": "fe58ec9f-e5eb-4d65-c491-d327783fea94"
      },
      "source": [
        "DM_equal_or_less_than_8 = total_digital_marketing_students - DM_greater_than_8\n",
        "DM_equal_or_less_than_8"
      ],
      "execution_count": 103,
      "outputs": [
        {
          "output_type": "execute_result",
          "data": {
            "text/plain": [
              "248"
            ]
          },
          "metadata": {
            "tags": []
          },
          "execution_count": 103
        }
      ]
    },
    {
      "cell_type": "code",
      "metadata": {
        "id": "eg7IltePevR7",
        "colab_type": "code",
        "colab": {}
      },
      "source": [
        "x=['DM_greater_than_8','DM_equal_or_less_than_8']\n",
        "y=[DM_greater_than_8,DM_equal_or_less_than_8]"
      ],
      "execution_count": 104,
      "outputs": []
    },
    {
      "cell_type": "code",
      "metadata": {
        "id": "B69bA7uKevK2",
        "colab_type": "code",
        "colab": {
          "base_uri": "https://localhost:8080/",
          "height": 623
        },
        "outputId": "af2b7989-0352-4999-bf59-c2698c5fe81c"
      },
      "source": [
        "plt.figure(figsize=(10,10))\n",
        "ax = sns.barplot(x=x,y=y,data=data)\n",
        "ax.set_xlabel('Digital Marketing Students')\n",
        "ax.set_ylabel('Number of students')\n"
      ],
      "execution_count": 105,
      "outputs": [
        {
          "output_type": "execute_result",
          "data": {
            "text/plain": [
              "Text(0, 0.5, 'Number of students')"
            ]
          },
          "metadata": {
            "tags": []
          },
          "execution_count": 105
        },
        {
          "output_type": "display_data",
          "data": {
            "image/png": "[encoded data removed]",
            "text/plain": [
              "<Figure size 720x720 with 1 Axes>"
            ]
          },
          "metadata": {
            "tags": [],
            "needs_background": "light"
          }
        }
      ]
    },
    {
      "cell_type": "code",
      "metadata": {
        "id": "0-HsXPeRiZfh",
        "colab_type": "code",
        "colab": {
          "base_uri": "https://localhost:8080/",
          "height": 734
        },
        "outputId": "c105934f-1690-4dbf-8cc7-f6d1a223dc5e"
      },
      "source": [
        "ya = data[[\"Which-year are you studying in?\",\"Major/Area of Study\",\"City\"]].copy()\n",
        "ya = ya.groupby([\"Which-year are you studying in?\",\"Major/Area of Study\"],as_index=False)['City'].count()\n",
        "print(ya)\n",
        "\n",
        "y1 = ya[ya[\"Major/Area of Study\"] == \"Computer Engineering\" ][\"City\"]\n",
        "y2 = ya[ya[\"Major/Area of Study\"] == \"Electrical Engineering\" ][\"City\"]\n",
        "y3 = ya[ya[\"Major/Area of Study\"] == \"Electronics and Telecommunication\" ][\"City\"]\n",
        "labels = ya[\"Which-year are you studying in?\"].unique()\n",
        "x = np.arange(len(labels))\n",
        "width = 0.25 \n",
        "plt.rcParams[\"figure.figsize\"]= 10,8\n",
        "\n",
        "fig, ax = plt.subplots()\n",
        "rects1 = ax.bar(x + 0.0 , y1, width, label='Computer Engineering',color='darkred')\n",
        "rects2 = ax.bar(x + 0.25 , y2, width, label='Electrical Engineering',color='red')\n",
        "rects3 = ax.bar(x + 0.5 , y3, width, label='Electronics and Telecommunication',color='salmon')\n",
        "ax.set_ylabel('No Of Students')\n",
        "ax.set_title('Year wise area of study')\n",
        "ax.set_xticks(x)\n",
        "ax.set_xticklabels(labels)\n",
        "ax.legend(loc='upper right')"
      ],
      "execution_count": 106,
      "outputs": [
        {
          "output_type": "stream",
          "text": [
            "   Which-year are you studying in?                Major/Area of Study  City\n",
            "0                       First-year               Computer Engineering  1470\n",
            "1                       First-year             Electrical Engineering   490\n",
            "2                       First-year  Electronics and Telecommunication   550\n",
            "3                      Fourth-year               Computer Engineering  1516\n",
            "4                      Fourth-year             Electrical Engineering   464\n",
            "5                      Fourth-year  Electronics and Telecommunication   497\n",
            "6                      Second-year               Computer Engineering  1536\n",
            "7                      Second-year             Electrical Engineering   518\n",
            "8                      Second-year  Electronics and Telecommunication   496\n",
            "9                       Third-year               Computer Engineering  1449\n",
            "10                      Third-year             Electrical Engineering   561\n",
            "11                      Third-year  Electronics and Telecommunication   453\n"
          ],
          "name": "stdout"
        },
        {
          "output_type": "execute_result",
          "data": {
            "text/plain": [
              "<matplotlib.legend.Legend at 0x7f8683aa6a90>"
            ]
          },
          "metadata": {
            "tags": []
          },
          "execution_count": 106
        },
        {
          "output_type": "display_data",
          "data": {
            "image/png": "[encoded data removed]",
            "text/plain": [
              "<Figure size 720x576 with 1 Axes>"
            ]
          },
          "metadata": {
            "tags": [],
            "needs_background": "light"
          }
        }
      ]
    },
    {
      "cell_type": "code",
      "metadata": {
        "id": "l5k6gtIuzEk6",
        "colab_type": "code",
        "colab": {
          "base_uri": "https://localhost:8080/",
          "height": 476
        },
        "outputId": "9c1e0c3a-8a31-4a74-e9bd-bf5370fad706"
      },
      "source": [
        "cllgplot=data['College name'].value_counts().to_frame()\n",
        "cllgplot.plot(kind='barh', figsize=(15, 8),color=\"orange\")\n",
        "plt.ylabel(\"College Name\")\n",
        "plt.xlabel('Number of Applicants')\n",
        "plt.title('College Wise')\n",
        "plt.grid(True)\n",
        "plt.show()"
      ],
      "execution_count": 107,
      "outputs": [
        {
          "output_type": "display_data",
          "data": {
            "image/png": "[encoded data removed]",
            "text/plain": [
              "<Figure size 1080x576 with 1 Axes>"
            ]
          },
          "metadata": {
            "tags": [],
            "needs_background": "light"
          }
        }
      ]
    },
    {
      "cell_type": "code",
      "metadata": {
        "id": "2k-kUSUOiZly",
        "colab_type": "code",
        "colab": {
          "base_uri": "https://localhost:8080/",
          "height": 501
        },
        "outputId": "29a43ac6-a429-47ff-9cf1-35b8e026a09c"
      },
      "source": [
        "data[\"Label\"] = data[\"Label\"].replace({'eligible':1,'ineligible':0})\n",
        "data.head()"
      ],
      "execution_count": 108,
      "outputs": [
        {
          "output_type": "execute_result",
          "data": {
            "text/html": [
              "<div>\n",
              "<style scoped>\n",
              "    .dataframe tbody tr th:only-of-type {\n",
              "        vertical-align: middle;\n",
              "    }\n",
              "\n",
              "    .dataframe tbody tr th {\n",
              "        vertical-align: top;\n",
              "    }\n",
              "\n",
              "    .dataframe thead th {\n",
              "        text-align: right;\n",
              "    }\n",
              "</style>\n",
              "<table border=\"1\" class=\"dataframe\">\n",
              "  <thead>\n",
              "    <tr style=\"text-align: right;\">\n",
              "      <th></th>\n",
              "      <th>City</th>\n",
              "      <th>College name</th>\n",
              "      <th>Major/Area of Study</th>\n",
              "      <th>Which-year are you studying in?</th>\n",
              "      <th>CGPA/ percentage</th>\n",
              "      <th>Areas_of_interest</th>\n",
              "      <th>python_or_any_other</th>\n",
              "      <th>Rate your written communication skills [1-10]</th>\n",
              "      <th>Rate your verbal communication skills [1-10]</th>\n",
              "      <th>How Did You Hear About This Internship?</th>\n",
              "      <th>Label</th>\n",
              "    </tr>\n",
              "  </thead>\n",
              "  <tbody>\n",
              "    <tr>\n",
              "      <th>0</th>\n",
              "      <td>Kolhapur</td>\n",
              "      <td>DY Patil College of Engineering And Technology</td>\n",
              "      <td>Electrical Engineering</td>\n",
              "      <td>Second-year</td>\n",
              "      <td>7.26</td>\n",
              "      <td>Artificial Intelligence</td>\n",
              "      <td>HTML/CSS</td>\n",
              "      <td>6</td>\n",
              "      <td>10</td>\n",
              "      <td>Twitter</td>\n",
              "      <td>0</td>\n",
              "    </tr>\n",
              "    <tr>\n",
              "      <th>1</th>\n",
              "      <td>Pune</td>\n",
              "      <td>Vishwakarma Institute of Information Technology</td>\n",
              "      <td>Electronics and Telecommunication</td>\n",
              "      <td>Fourth-year</td>\n",
              "      <td>8.73</td>\n",
              "      <td>Cloud Computing</td>\n",
              "      <td>PHP</td>\n",
              "      <td>10</td>\n",
              "      <td>7</td>\n",
              "      <td>Ex/Current Employee</td>\n",
              "      <td>1</td>\n",
              "    </tr>\n",
              "    <tr>\n",
              "      <th>2</th>\n",
              "      <td>Mumbai</td>\n",
              "      <td>Vidyalankar Institute of Technology</td>\n",
              "      <td>Electrical Engineering</td>\n",
              "      <td>Fourth-year</td>\n",
              "      <td>8.61</td>\n",
              "      <td>IoT</td>\n",
              "      <td>C</td>\n",
              "      <td>8</td>\n",
              "      <td>6</td>\n",
              "      <td>Twitter</td>\n",
              "      <td>0</td>\n",
              "    </tr>\n",
              "    <tr>\n",
              "      <th>3</th>\n",
              "      <td>Solapur</td>\n",
              "      <td>Brahmdevdada Mane Institute of Technology</td>\n",
              "      <td>Computer Engineering</td>\n",
              "      <td>Second-year</td>\n",
              "      <td>7.96</td>\n",
              "      <td>Digital Marketing</td>\n",
              "      <td>PHP</td>\n",
              "      <td>9</td>\n",
              "      <td>6</td>\n",
              "      <td>Twitter</td>\n",
              "      <td>0</td>\n",
              "    </tr>\n",
              "    <tr>\n",
              "      <th>4</th>\n",
              "      <td>Sangli</td>\n",
              "      <td>Rajarambapu Institute of Technology</td>\n",
              "      <td>Electrical Engineering</td>\n",
              "      <td>First-year</td>\n",
              "      <td>7.07</td>\n",
              "      <td>Cloud Computing</td>\n",
              "      <td>Python</td>\n",
              "      <td>8</td>\n",
              "      <td>6</td>\n",
              "      <td>Facebook</td>\n",
              "      <td>0</td>\n",
              "    </tr>\n",
              "  </tbody>\n",
              "</table>\n",
              "</div>"
            ],
            "text/plain": [
              "       City  ... Label\n",
              "0  Kolhapur  ...     0\n",
              "1      Pune  ...     1\n",
              "2    Mumbai  ...     0\n",
              "3   Solapur  ...     0\n",
              "4    Sangli  ...     0\n",
              "\n",
              "[5 rows x 11 columns]"
            ]
          },
          "metadata": {
            "tags": []
          },
          "execution_count": 108
        }
      ]
    },
    {
      "cell_type": "code",
      "metadata": {
        "id": "O-wflJX0iZc-",
        "colab_type": "code",
        "colab": {
          "base_uri": "https://localhost:8080/",
          "height": 770
        },
        "outputId": "0f6ae324-c784-4aaf-eab6-1e14a420fe75"
      },
      "source": [
        "eligible = data[data['Label']==1]\n",
        "ineligible = data[data['Label']==0]\n",
        "fig,ax = plt.subplots()\n",
        "ax.scatter(eligible['CGPA/ percentage'], eligible['Label'], color='blue', label='Eligible/1')\n",
        "ax.scatter(ineligible['CGPA/ percentage'], ineligible['Label'], color='green', label='Ineligible/1')\n",
        "ax.set_xlabel('CGPA')\n",
        "ax.set_ylabel('Target Variable')\n",
        "ax.set_title('Relationship between CGPA and Target variable')\n",
        "ax.legend(loc='centre left', bbox_to_anchor=(1, 1.05))\n",
        "plt.gcf().set_size_inches(15, 8)\n",
        "plt.grid(True)\n",
        "plt.show()"
      ],
      "execution_count": 109,
      "outputs": [
        {
          "output_type": "stream",
          "text": [
            "/usr/local/lib/python3.6/dist-packages/ipykernel_launcher.py:9: MatplotlibDeprecationWarning: Unrecognized location 'centre left'. Falling back on 'best'; valid locations are\n",
            "\tbest\n",
            "\tupper right\n",
            "\tupper left\n",
            "\tlower left\n",
            "\tlower right\n",
            "\tright\n",
            "\tcenter left\n",
            "\tcenter right\n",
            "\tlower center\n",
            "\tupper center\n",
            "\tcenter\n",
            "This will raise an exception in 3.3.\n",
            "  if __name__ == '__main__':\n"
          ],
          "name": "stderr"
        },
        {
          "output_type": "display_data",
          "data": {
            "image/png": "[encoded data removed]",
            "text/plain": [
              "<Figure size 1080x576 with 1 Axes>"
            ]
          },
          "metadata": {
            "tags": [],
            "needs_background": "light"
          }
        }
      ]
    },
    {
      "cell_type": "code",
      "metadata": {
        "id": "RuL2mUg9i1KM",
        "colab_type": "code",
        "colab": {
          "base_uri": "https://localhost:8080/",
          "height": 648
        },
        "outputId": "06b5748a-56b3-4503-eb74-34830e356d56"
      },
      "source": [
        "eligible = data[data['Label']==1]\n",
        "ineligible = data[data['Label']==0]\n",
        "plt.figure(figsize=(8,5))\n",
        "fig,ax = plt.subplots()\n",
        "ax.scatter(eligible['Areas_of_interest'], eligible['Label'], color='purple', s=400, label='Eligible/1')\n",
        "ax.scatter(ineligible['Areas_of_interest'], ineligible['Label'], color='pink', s=400, label='Ineligible/1')\n",
        "ax.set_xlabel('Area of interest')\n",
        "ax.set_ylabel('Target Variable')\n",
        "ax.set_title('Relationship between Area of interest and Target variable')\n",
        "ax.legend(loc='right', bbox_to_anchor=(1.05, 1.05))\n",
        "plt.gcf().set_size_inches(15, 8)\n",
        "plt.xticks(rotation=90)\n",
        "plt.grid(True)\n",
        "plt.show()"
      ],
      "execution_count": 110,
      "outputs": [
        {
          "output_type": "display_data",
          "data": {
            "text/plain": [
              "<Figure size 576x360 with 0 Axes>"
            ]
          },
          "metadata": {
            "tags": []
          }
        },
        {
          "output_type": "display_data",
          "data": {
            "image/png": "[encoded data removed]",
            "text/plain": [
              "<Figure size 1080x576 with 1 Axes>"
            ]
          },
          "metadata": {
            "tags": [],
            "needs_background": "light"
          }
        }
      ]
    },
    {
      "cell_type": "code",
      "metadata": {
        "id": "dwrJFojQHlDM",
        "colab_type": "code",
        "colab": {
          "base_uri": "https://localhost:8080/",
          "height": 669
        },
        "outputId": "aca2ba3d-08d7-459c-8bc9-6e3b0ef270ef"
      },
      "source": [
        "df = data[['Which-year are you studying in?','Major/Area of Study','Label']].copy()\n",
        "df['Total_count'] = 1\n",
        "df = df.groupby(['Which-year are you studying in?','Major/Area of Study','Label'],as_index=False).count()\n",
        "df"
      ],
      "execution_count": 111,
      "outputs": [
        {
          "output_type": "execute_result",
          "data": {
            "text/html": [
              "<div>\n",
              "<style scoped>\n",
              "    .dataframe tbody tr th:only-of-type {\n",
              "        vertical-align: middle;\n",
              "    }\n",
              "\n",
              "    .dataframe tbody tr th {\n",
              "        vertical-align: top;\n",
              "    }\n",
              "\n",
              "    .dataframe thead th {\n",
              "        text-align: right;\n",
              "    }\n",
              "</style>\n",
              "<table border=\"1\" class=\"dataframe\">\n",
              "  <thead>\n",
              "    <tr style=\"text-align: right;\">\n",
              "      <th></th>\n",
              "      <th>Which-year are you studying in?</th>\n",
              "      <th>Major/Area of Study</th>\n",
              "      <th>Label</th>\n",
              "      <th>Total_count</th>\n",
              "    </tr>\n",
              "  </thead>\n",
              "  <tbody>\n",
              "    <tr>\n",
              "      <th>0</th>\n",
              "      <td>First-year</td>\n",
              "      <td>Computer Engineering</td>\n",
              "      <td>0</td>\n",
              "      <td>1470</td>\n",
              "    </tr>\n",
              "    <tr>\n",
              "      <th>1</th>\n",
              "      <td>First-year</td>\n",
              "      <td>Electrical Engineering</td>\n",
              "      <td>0</td>\n",
              "      <td>490</td>\n",
              "    </tr>\n",
              "    <tr>\n",
              "      <th>2</th>\n",
              "      <td>First-year</td>\n",
              "      <td>Electronics and Telecommunication</td>\n",
              "      <td>0</td>\n",
              "      <td>550</td>\n",
              "    </tr>\n",
              "    <tr>\n",
              "      <th>3</th>\n",
              "      <td>Fourth-year</td>\n",
              "      <td>Computer Engineering</td>\n",
              "      <td>0</td>\n",
              "      <td>701</td>\n",
              "    </tr>\n",
              "    <tr>\n",
              "      <th>4</th>\n",
              "      <td>Fourth-year</td>\n",
              "      <td>Computer Engineering</td>\n",
              "      <td>1</td>\n",
              "      <td>815</td>\n",
              "    </tr>\n",
              "    <tr>\n",
              "      <th>5</th>\n",
              "      <td>Fourth-year</td>\n",
              "      <td>Electrical Engineering</td>\n",
              "      <td>0</td>\n",
              "      <td>205</td>\n",
              "    </tr>\n",
              "    <tr>\n",
              "      <th>6</th>\n",
              "      <td>Fourth-year</td>\n",
              "      <td>Electrical Engineering</td>\n",
              "      <td>1</td>\n",
              "      <td>259</td>\n",
              "    </tr>\n",
              "    <tr>\n",
              "      <th>7</th>\n",
              "      <td>Fourth-year</td>\n",
              "      <td>Electronics and Telecommunication</td>\n",
              "      <td>0</td>\n",
              "      <td>222</td>\n",
              "    </tr>\n",
              "    <tr>\n",
              "      <th>8</th>\n",
              "      <td>Fourth-year</td>\n",
              "      <td>Electronics and Telecommunication</td>\n",
              "      <td>1</td>\n",
              "      <td>275</td>\n",
              "    </tr>\n",
              "    <tr>\n",
              "      <th>9</th>\n",
              "      <td>Second-year</td>\n",
              "      <td>Computer Engineering</td>\n",
              "      <td>0</td>\n",
              "      <td>718</td>\n",
              "    </tr>\n",
              "    <tr>\n",
              "      <th>10</th>\n",
              "      <td>Second-year</td>\n",
              "      <td>Computer Engineering</td>\n",
              "      <td>1</td>\n",
              "      <td>818</td>\n",
              "    </tr>\n",
              "    <tr>\n",
              "      <th>11</th>\n",
              "      <td>Second-year</td>\n",
              "      <td>Electrical Engineering</td>\n",
              "      <td>0</td>\n",
              "      <td>244</td>\n",
              "    </tr>\n",
              "    <tr>\n",
              "      <th>12</th>\n",
              "      <td>Second-year</td>\n",
              "      <td>Electrical Engineering</td>\n",
              "      <td>1</td>\n",
              "      <td>274</td>\n",
              "    </tr>\n",
              "    <tr>\n",
              "      <th>13</th>\n",
              "      <td>Second-year</td>\n",
              "      <td>Electronics and Telecommunication</td>\n",
              "      <td>0</td>\n",
              "      <td>223</td>\n",
              "    </tr>\n",
              "    <tr>\n",
              "      <th>14</th>\n",
              "      <td>Second-year</td>\n",
              "      <td>Electronics and Telecommunication</td>\n",
              "      <td>1</td>\n",
              "      <td>273</td>\n",
              "    </tr>\n",
              "    <tr>\n",
              "      <th>15</th>\n",
              "      <td>Third-year</td>\n",
              "      <td>Computer Engineering</td>\n",
              "      <td>0</td>\n",
              "      <td>648</td>\n",
              "    </tr>\n",
              "    <tr>\n",
              "      <th>16</th>\n",
              "      <td>Third-year</td>\n",
              "      <td>Computer Engineering</td>\n",
              "      <td>1</td>\n",
              "      <td>801</td>\n",
              "    </tr>\n",
              "    <tr>\n",
              "      <th>17</th>\n",
              "      <td>Third-year</td>\n",
              "      <td>Electrical Engineering</td>\n",
              "      <td>0</td>\n",
              "      <td>259</td>\n",
              "    </tr>\n",
              "    <tr>\n",
              "      <th>18</th>\n",
              "      <td>Third-year</td>\n",
              "      <td>Electrical Engineering</td>\n",
              "      <td>1</td>\n",
              "      <td>302</td>\n",
              "    </tr>\n",
              "    <tr>\n",
              "      <th>19</th>\n",
              "      <td>Third-year</td>\n",
              "      <td>Electronics and Telecommunication</td>\n",
              "      <td>0</td>\n",
              "      <td>207</td>\n",
              "    </tr>\n",
              "    <tr>\n",
              "      <th>20</th>\n",
              "      <td>Third-year</td>\n",
              "      <td>Electronics and Telecommunication</td>\n",
              "      <td>1</td>\n",
              "      <td>246</td>\n",
              "    </tr>\n",
              "  </tbody>\n",
              "</table>\n",
              "</div>"
            ],
            "text/plain": [
              "   Which-year are you studying in?  ... Total_count\n",
              "0                       First-year  ...        1470\n",
              "1                       First-year  ...         490\n",
              "2                       First-year  ...         550\n",
              "3                      Fourth-year  ...         701\n",
              "4                      Fourth-year  ...         815\n",
              "5                      Fourth-year  ...         205\n",
              "6                      Fourth-year  ...         259\n",
              "7                      Fourth-year  ...         222\n",
              "8                      Fourth-year  ...         275\n",
              "9                      Second-year  ...         718\n",
              "10                     Second-year  ...         818\n",
              "11                     Second-year  ...         244\n",
              "12                     Second-year  ...         274\n",
              "13                     Second-year  ...         223\n",
              "14                     Second-year  ...         273\n",
              "15                      Third-year  ...         648\n",
              "16                      Third-year  ...         801\n",
              "17                      Third-year  ...         259\n",
              "18                      Third-year  ...         302\n",
              "19                      Third-year  ...         207\n",
              "20                      Third-year  ...         246\n",
              "\n",
              "[21 rows x 4 columns]"
            ]
          },
          "metadata": {
            "tags": []
          },
          "execution_count": 111
        }
      ]
    },
    {
      "cell_type": "code",
      "metadata": {
        "id": "JH8llZxR0VPw",
        "colab_type": "code",
        "colab": {
          "base_uri": "https://localhost:8080/",
          "height": 669
        },
        "outputId": "d2dccaac-8fbd-4581-e2b5-0f430326fde7"
      },
      "source": [
        "ym = data[[\"City\",\"Major/Area of Study\",\"Which-year are you studying in?\",\"Label\"]]\n",
        "ym = ym.groupby([\"Which-year are you studying in?\",\"Major/Area of Study\",\"Label\"],as_index=False).count()\n",
        "ym"
      ],
      "execution_count": 112,
      "outputs": [
        {
          "output_type": "execute_result",
          "data": {
            "text/html": [
              "<div>\n",
              "<style scoped>\n",
              "    .dataframe tbody tr th:only-of-type {\n",
              "        vertical-align: middle;\n",
              "    }\n",
              "\n",
              "    .dataframe tbody tr th {\n",
              "        vertical-align: top;\n",
              "    }\n",
              "\n",
              "    .dataframe thead th {\n",
              "        text-align: right;\n",
              "    }\n",
              "</style>\n",
              "<table border=\"1\" class=\"dataframe\">\n",
              "  <thead>\n",
              "    <tr style=\"text-align: right;\">\n",
              "      <th></th>\n",
              "      <th>Which-year are you studying in?</th>\n",
              "      <th>Major/Area of Study</th>\n",
              "      <th>Label</th>\n",
              "      <th>City</th>\n",
              "    </tr>\n",
              "  </thead>\n",
              "  <tbody>\n",
              "    <tr>\n",
              "      <th>0</th>\n",
              "      <td>First-year</td>\n",
              "      <td>Computer Engineering</td>\n",
              "      <td>0</td>\n",
              "      <td>1470</td>\n",
              "    </tr>\n",
              "    <tr>\n",
              "      <th>1</th>\n",
              "      <td>First-year</td>\n",
              "      <td>Electrical Engineering</td>\n",
              "      <td>0</td>\n",
              "      <td>490</td>\n",
              "    </tr>\n",
              "    <tr>\n",
              "      <th>2</th>\n",
              "      <td>First-year</td>\n",
              "      <td>Electronics and Telecommunication</td>\n",
              "      <td>0</td>\n",
              "      <td>550</td>\n",
              "    </tr>\n",
              "    <tr>\n",
              "      <th>3</th>\n",
              "      <td>Fourth-year</td>\n",
              "      <td>Computer Engineering</td>\n",
              "      <td>0</td>\n",
              "      <td>701</td>\n",
              "    </tr>\n",
              "    <tr>\n",
              "      <th>4</th>\n",
              "      <td>Fourth-year</td>\n",
              "      <td>Computer Engineering</td>\n",
              "      <td>1</td>\n",
              "      <td>815</td>\n",
              "    </tr>\n",
              "    <tr>\n",
              "      <th>5</th>\n",
              "      <td>Fourth-year</td>\n",
              "      <td>Electrical Engineering</td>\n",
              "      <td>0</td>\n",
              "      <td>205</td>\n",
              "    </tr>\n",
              "    <tr>\n",
              "      <th>6</th>\n",
              "      <td>Fourth-year</td>\n",
              "      <td>Electrical Engineering</td>\n",
              "      <td>1</td>\n",
              "      <td>259</td>\n",
              "    </tr>\n",
              "    <tr>\n",
              "      <th>7</th>\n",
              "      <td>Fourth-year</td>\n",
              "      <td>Electronics and Telecommunication</td>\n",
              "      <td>0</td>\n",
              "      <td>222</td>\n",
              "    </tr>\n",
              "    <tr>\n",
              "      <th>8</th>\n",
              "      <td>Fourth-year</td>\n",
              "      <td>Electronics and Telecommunication</td>\n",
              "      <td>1</td>\n",
              "      <td>275</td>\n",
              "    </tr>\n",
              "    <tr>\n",
              "      <th>9</th>\n",
              "      <td>Second-year</td>\n",
              "      <td>Computer Engineering</td>\n",
              "      <td>0</td>\n",
              "      <td>718</td>\n",
              "    </tr>\n",
              "    <tr>\n",
              "      <th>10</th>\n",
              "      <td>Second-year</td>\n",
              "      <td>Computer Engineering</td>\n",
              "      <td>1</td>\n",
              "      <td>818</td>\n",
              "    </tr>\n",
              "    <tr>\n",
              "      <th>11</th>\n",
              "      <td>Second-year</td>\n",
              "      <td>Electrical Engineering</td>\n",
              "      <td>0</td>\n",
              "      <td>244</td>\n",
              "    </tr>\n",
              "    <tr>\n",
              "      <th>12</th>\n",
              "      <td>Second-year</td>\n",
              "      <td>Electrical Engineering</td>\n",
              "      <td>1</td>\n",
              "      <td>274</td>\n",
              "    </tr>\n",
              "    <tr>\n",
              "      <th>13</th>\n",
              "      <td>Second-year</td>\n",
              "      <td>Electronics and Telecommunication</td>\n",
              "      <td>0</td>\n",
              "      <td>223</td>\n",
              "    </tr>\n",
              "    <tr>\n",
              "      <th>14</th>\n",
              "      <td>Second-year</td>\n",
              "      <td>Electronics and Telecommunication</td>\n",
              "      <td>1</td>\n",
              "      <td>273</td>\n",
              "    </tr>\n",
              "    <tr>\n",
              "      <th>15</th>\n",
              "      <td>Third-year</td>\n",
              "      <td>Computer Engineering</td>\n",
              "      <td>0</td>\n",
              "      <td>648</td>\n",
              "    </tr>\n",
              "    <tr>\n",
              "      <th>16</th>\n",
              "      <td>Third-year</td>\n",
              "      <td>Computer Engineering</td>\n",
              "      <td>1</td>\n",
              "      <td>801</td>\n",
              "    </tr>\n",
              "    <tr>\n",
              "      <th>17</th>\n",
              "      <td>Third-year</td>\n",
              "      <td>Electrical Engineering</td>\n",
              "      <td>0</td>\n",
              "      <td>259</td>\n",
              "    </tr>\n",
              "    <tr>\n",
              "      <th>18</th>\n",
              "      <td>Third-year</td>\n",
              "      <td>Electrical Engineering</td>\n",
              "      <td>1</td>\n",
              "      <td>302</td>\n",
              "    </tr>\n",
              "    <tr>\n",
              "      <th>19</th>\n",
              "      <td>Third-year</td>\n",
              "      <td>Electronics and Telecommunication</td>\n",
              "      <td>0</td>\n",
              "      <td>207</td>\n",
              "    </tr>\n",
              "    <tr>\n",
              "      <th>20</th>\n",
              "      <td>Third-year</td>\n",
              "      <td>Electronics and Telecommunication</td>\n",
              "      <td>1</td>\n",
              "      <td>246</td>\n",
              "    </tr>\n",
              "  </tbody>\n",
              "</table>\n",
              "</div>"
            ],
            "text/plain": [
              "   Which-year are you studying in?  ...  City\n",
              "0                       First-year  ...  1470\n",
              "1                       First-year  ...   490\n",
              "2                       First-year  ...   550\n",
              "3                      Fourth-year  ...   701\n",
              "4                      Fourth-year  ...   815\n",
              "5                      Fourth-year  ...   205\n",
              "6                      Fourth-year  ...   259\n",
              "7                      Fourth-year  ...   222\n",
              "8                      Fourth-year  ...   275\n",
              "9                      Second-year  ...   718\n",
              "10                     Second-year  ...   818\n",
              "11                     Second-year  ...   244\n",
              "12                     Second-year  ...   274\n",
              "13                     Second-year  ...   223\n",
              "14                     Second-year  ...   273\n",
              "15                      Third-year  ...   648\n",
              "16                      Third-year  ...   801\n",
              "17                      Third-year  ...   259\n",
              "18                      Third-year  ...   302\n",
              "19                      Third-year  ...   207\n",
              "20                      Third-year  ...   246\n",
              "\n",
              "[21 rows x 4 columns]"
            ]
          },
          "metadata": {
            "tags": []
          },
          "execution_count": 112
        }
      ]
    },
    {
      "cell_type": "code",
      "metadata": {
        "id": "qnaUqGdSHlNO",
        "colab_type": "code",
        "colab": {
          "base_uri": "https://localhost:8080/",
          "height": 650
        },
        "outputId": "82bd057a-c895-46cb-915c-eb5971441da9"
      },
      "source": [
        "fig, ax = plt.subplots()\n",
        "Fourth = ym[ym[\"Which-year are you studying in?\"] == 'Fourth-year']\n",
        "print(Fourth)\n",
        "\n",
        "total_comp = Fourth[Fourth[\"Major/Area of Study\"]==\"Computer Engineering\"][\"City\"].sum()\n",
        "total_elec = Fourth[Fourth[\"Major/Area of Study\"]==\"Electrical Engineering\"][\"City\"].sum()\n",
        "total_extc = Fourth[Fourth[\"Major/Area of Study\"]==\"Electronics and Telecommunication\"][\"City\"].sum()\n",
        "\n",
        "y1 = Fourth[Fourth[\"Label\"] == 0][\"City\"]\n",
        "y2 = Fourth[Fourth[\"Label\"] == 1][\"City\"]\n",
        "y3 = [total_comp,total_elec,total_extc]\n",
        "labels=Fourth[\"Major/Area of Study\"].unique()\n",
        "x = np.arange(len(labels))\n",
        "width = 0.25\n",
        "\n",
        "s3 = ax.bar(x , y3, width, label='Total',align='center',color='darkgreen')\n",
        "s1 = ax.bar(x + 0.25 , y1, width, label='Ineligible',align='center',color='chartreuse')\n",
        "s2 = ax.bar(x + 0.5, y2, width, label='Eligible',align='center',color='palegreen')\n",
        "\n",
        "ax.set_ylabel('Number Of Students')\n",
        "ax.set_title('Area of Study and Fourth Year')\n",
        "ax.set_xticks(x+0.25)\n",
        "ax.set_xticklabels(labels)\n",
        "ax.legend(loc='center left', bbox_to_anchor=(1, 0.5))\n",
        "plt.show()"
      ],
      "execution_count": 113,
      "outputs": [
        {
          "output_type": "stream",
          "text": [
            "  Which-year are you studying in?  ... City\n",
            "3                     Fourth-year  ...  701\n",
            "4                     Fourth-year  ...  815\n",
            "5                     Fourth-year  ...  205\n",
            "6                     Fourth-year  ...  259\n",
            "7                     Fourth-year  ...  222\n",
            "8                     Fourth-year  ...  275\n",
            "\n",
            "[6 rows x 4 columns]\n"
          ],
          "name": "stdout"
        },
        {
          "output_type": "display_data",
          "data": {
            "image/png": "[encoded data removed]",
            "text/plain": [
              "<Figure size 720x576 with 1 Axes>"
            ]
          },
          "metadata": {
            "tags": [],
            "needs_background": "light"
          }
        }
      ]
    },
    {
      "cell_type": "code",
      "metadata": {
        "id": "KYiE27eKHlJm",
        "colab_type": "code",
        "colab": {
          "base_uri": "https://localhost:8080/",
          "height": 650
        },
        "outputId": "ed50fc92-8cd6-41e0-9a91-0a0fce53149c"
      },
      "source": [
        "fig, ax = plt.subplots()\n",
        "Fourth = ym[ym[\"Which-year are you studying in?\"] == 'Third-year']\n",
        "print(Fourth)\n",
        "\n",
        "total_comp = Fourth[Fourth[\"Major/Area of Study\"]==\"Computer Engineering\"][\"City\"].sum()\n",
        "total_elec = Fourth[Fourth[\"Major/Area of Study\"]==\"Electrical Engineering\"][\"City\"].sum()\n",
        "total_extc = Fourth[Fourth[\"Major/Area of Study\"]==\"Electronics and Telecommunication\"][\"City\"].sum()\n",
        "\n",
        "y1 = Fourth[Fourth[\"Label\"] == 0][\"City\"]\n",
        "y2 = Fourth[Fourth[\"Label\"] == 1][\"City\"]\n",
        "y3 = [total_comp,total_elec,total_extc]\n",
        "labels=Fourth[\"Major/Area of Study\"].unique()\n",
        "x = np.arange(len(labels))\n",
        "width = 0.25\n",
        "\n",
        "s3 = ax.bar(x , y3, width, label='Total',align='center',color='purple')\n",
        "s1 = ax.bar(x + 0.25 , y1, width, label='Ineligible',align='center',color='magenta')\n",
        "s2 = ax.bar(x + 0.5, y2, width, label='Eligible',align='center',color='pink')\n",
        "\n",
        "ax.set_ylabel('Number Of Students')\n",
        "ax.set_title('Area of Study and Third Year')\n",
        "ax.set_xticks(x+0.25)\n",
        "ax.set_xticklabels(labels)\n",
        "ax.legend(loc='center left', bbox_to_anchor=(1, 0.5))\n",
        "plt.show()"
      ],
      "execution_count": 114,
      "outputs": [
        {
          "output_type": "stream",
          "text": [
            "   Which-year are you studying in?  ... City\n",
            "15                      Third-year  ...  648\n",
            "16                      Third-year  ...  801\n",
            "17                      Third-year  ...  259\n",
            "18                      Third-year  ...  302\n",
            "19                      Third-year  ...  207\n",
            "20                      Third-year  ...  246\n",
            "\n",
            "[6 rows x 4 columns]\n"
          ],
          "name": "stdout"
        },
        {
          "output_type": "display_data",
          "data": {
            "image/png": "[encoded data removed]",
            "text/plain": [
              "<Figure size 720x576 with 1 Axes>"
            ]
          },
          "metadata": {
            "tags": [],
            "needs_background": "light"
          }
        }
      ]
    },
    {
      "cell_type": "code",
      "metadata": {
        "id": "3aLFjfmhHlIB",
        "colab_type": "code",
        "colab": {
          "base_uri": "https://localhost:8080/",
          "height": 650
        },
        "outputId": "b33867ea-0884-460f-cfdf-65da6b1100b1"
      },
      "source": [
        "fig, ax = plt.subplots()\n",
        "Fourth = ym[ym[\"Which-year are you studying in?\"] == 'Second-year']\n",
        "print(Fourth)\n",
        "\n",
        "total_comp = Fourth[Fourth[\"Major/Area of Study\"]==\"Computer Engineering\"][\"City\"].sum()\n",
        "total_elec = Fourth[Fourth[\"Major/Area of Study\"]==\"Electrical Engineering\"][\"City\"].sum()\n",
        "total_extc = Fourth[Fourth[\"Major/Area of Study\"]==\"Electronics and Telecommunication\"][\"City\"].sum()\n",
        "\n",
        "y1 = Fourth[Fourth[\"Label\"] == 0][\"City\"]\n",
        "y2 = Fourth[Fourth[\"Label\"] == 1][\"City\"]\n",
        "y3 = [total_comp,total_elec,total_extc]\n",
        "labels=Fourth[\"Major/Area of Study\"].unique()\n",
        "x = np.arange(len(labels))\n",
        "width = 0.25\n",
        "\n",
        "s3 = ax.bar(x , y3, width, label='Total',align='center',color='k')\n",
        "s1 = ax.bar(x + 0.25 , y1, width, label='Ineligible',align='center',color='grey')\n",
        "s2 = ax.bar(x + 0.5, y2, width, label='Eligible',align='center',color='lightgray')\n",
        "\n",
        "ax.set_ylabel('Number Of Students')\n",
        "ax.set_title('Area of Study and Fourth Year')\n",
        "ax.set_xticks(x+0.25)\n",
        "ax.set_xticklabels(labels)\n",
        "ax.legend(loc='center left', bbox_to_anchor=(1, 0.5))\n",
        "plt.show()"
      ],
      "execution_count": 115,
      "outputs": [
        {
          "output_type": "stream",
          "text": [
            "   Which-year are you studying in?  ... City\n",
            "9                      Second-year  ...  718\n",
            "10                     Second-year  ...  818\n",
            "11                     Second-year  ...  244\n",
            "12                     Second-year  ...  274\n",
            "13                     Second-year  ...  223\n",
            "14                     Second-year  ...  273\n",
            "\n",
            "[6 rows x 4 columns]\n"
          ],
          "name": "stdout"
        },
        {
          "output_type": "display_data",
          "data": {
            "image/png": "[encoded data removed]",
            "text/plain": [
              "<Figure size 720x576 with 1 Axes>"
            ]
          },
          "metadata": {
            "tags": [],
            "needs_background": "light"
          }
        }
      ]
    }
  ]
}